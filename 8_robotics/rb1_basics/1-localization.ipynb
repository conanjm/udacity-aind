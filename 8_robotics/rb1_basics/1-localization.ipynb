{
 "cells": [
  {
   "cell_type": "markdown",
   "metadata": {},
   "source": [
    "# Localization Overview"
   ]
  },
  {
   "cell_type": "markdown",
   "metadata": {},
   "source": [
    "## 参考\n",
    "- [Localization (自己位置推定): 3　確率的自己位置推定法 - MyEnigma](http://myenigma.hatenablog.com/entry/20130104/1357274943)\n",
    "- [CS373 Unit 1 - The Problem of Localization - Udacity](https://www.udacity.com/wiki/cs373/unit-1)\n",
    "- [AI for Robotics - localization | Kludge factory](https://tyfkda.github.io/blog/2013/05/05/ai-localization.html)"
   ]
  },
  {
   "cell_type": "markdown",
   "metadata": {},
   "source": [
    "## Robot Movement"
   ]
  },
  {
   "cell_type": "code",
   "execution_count": 4,
   "metadata": {},
   "outputs": [
    {
     "name": "stdout",
     "output_type": "stream",
     "text": [
      "[0.2, 0.2, 0.2, 0.2, 0.2]\n"
     ]
    }
   ],
   "source": [
    "# Modify the empty list, p, so that it becomes a UNIFORM probability\n",
    "# distribution over five grid cells, as expressed in a list of \n",
    "# five probabilities.\n",
    "\n",
    "p = [0.2, 0.2, 0.2, 0.2, 0.2]\n",
    "\n",
    "print(p)"
   ]
  },
  {
   "cell_type": "code",
   "execution_count": 6,
   "metadata": {},
   "outputs": [
    {
     "name": "stdout",
     "output_type": "stream",
     "text": [
      "[0.2, 0.2, 0.2, 0.2, 0.2]\n"
     ]
    }
   ],
   "source": [
    "#  Modify your code to create probability vectors, p, of arbitrary \n",
    "#  size, n. Use n=5 to verify that your new solution matches \n",
    "#  the previous one.\n",
    "\n",
    "p=[]\n",
    "n=5\n",
    "\n",
    "for _ in range(n):\n",
    "    p.append(1./n)\n",
    "\n",
    "print(p)"
   ]
  },
  {
   "cell_type": "code",
   "execution_count": 8,
   "metadata": {},
   "outputs": [
    {
     "name": "stdout",
     "output_type": "stream",
     "text": [
      "[0.04000000000000001, 0.12, 0.12, 0.04000000000000001, 0.04000000000000001]\n"
     ]
    }
   ],
   "source": [
    "#Write code that outputs p after multiplying each entry \n",
    "#by pHit or pMiss at the appropriate places. Remember that\n",
    "#the red cells 1 and 2 are hits and the other green cells\n",
    "#are misses.\n",
    "\n",
    "\n",
    "p=[0.2,0.2,0.2,0.2,0.2]\n",
    "pHit = 0.6\n",
    "pMiss = 0.2\n",
    "\n",
    "#Enter code here\n",
    "p[0]*=pMiss\n",
    "p[1]*=pHit\n",
    "p[2]*=pHit\n",
    "p[3]*=pMiss\n",
    "p[4]*=pMiss\n",
    "\n",
    "print(p)"
   ]
  },
  {
   "cell_type": "code",
   "execution_count": 9,
   "metadata": {},
   "outputs": [
    {
     "name": "stdout",
     "output_type": "stream",
     "text": [
      "0.3600000000000001\n"
     ]
    }
   ],
   "source": [
    "#Modify the program to find and print the sum of all \n",
    "#the entries in the list p.\n",
    "\n",
    "p=[0.2, 0.2, 0.2, 0.2, 0.2]\n",
    "pHit = 0.6\n",
    "pMiss = 0.2\n",
    "\n",
    "p[0]=p[0]*pMiss\n",
    "p[1]=p[1]*pHit\n",
    "p[2]=p[2]*pHit\n",
    "p[3]=p[3]*pMiss\n",
    "p[4]=p[4]*pMiss\n",
    "\n",
    "# Enter your code below\n",
    "sum = 0\n",
    "for i in range(5):\n",
    "    sum += p[i]\n",
    "print(sum)"
   ]
  },
  {
   "cell_type": "code",
   "execution_count": 12,
   "metadata": {},
   "outputs": [
    {
     "name": "stdout",
     "output_type": "stream",
     "text": [
      "[0.04000000000000001, 0.12, 0.12, 0.04000000000000001, 0.04000000000000001]\n"
     ]
    }
   ],
   "source": [
    "#Modify the code below so that the function sense, which \n",
    "#takes p and Z as inputs, will output the NON-normalized \n",
    "#probability distribution, q, after multiplying the entries \n",
    "#in p by pHit or pMiss according to the color in the \n",
    "#corresponding cell in world.\n",
    "\n",
    "\n",
    "p=[0.2, 0.2, 0.2, 0.2, 0.2]\n",
    "world=['green', 'red', 'red', 'green', 'green']\n",
    "Z = 'red'\n",
    "pHit = 0.6\n",
    "pMiss = 0.2\n",
    "\n",
    "def sense(p, Z):\n",
    "    q = []\n",
    "    for i in range(len(p)):\n",
    "        isHit = (world[i] == Z)\n",
    "        q.append(p[i]*(pHit if isHit else pMiss))\n",
    "    return q\n",
    "\n",
    "print(sense(p,Z))"
   ]
  },
  {
   "cell_type": "code",
   "execution_count": 19,
   "metadata": {},
   "outputs": [
    {
     "name": "stdout",
     "output_type": "stream",
     "text": [
      "[0.1111111111111111, 0.3333333333333332, 0.3333333333333332, 0.1111111111111111, 0.1111111111111111]\n"
     ]
    }
   ],
   "source": [
    "#Modify your code so that it normalizes the output for \n",
    "#the function sense. This means that the entries in q \n",
    "#should sum to one.\n",
    "\n",
    "\n",
    "p=[0.2, 0.2, 0.2, 0.2, 0.2]\n",
    "world=['green', 'red', 'red', 'green', 'green']\n",
    "Z = 'red'\n",
    "pHit = 0.6\n",
    "pMiss = 0.2\n",
    "\n",
    "def sense(p, Z):\n",
    "    q=[]\n",
    "    for i in range(len(p)):\n",
    "        hit = (Z == world[i])\n",
    "        q.append(p[i] * (hit * pHit + (1-hit) * pMiss))\n",
    "\n",
    "    s = 0\n",
    "    for i in range(len(p)):\n",
    "        s += q[i]\n",
    "    for i in range(len(p)):\n",
    "        q[i] = q [i]/s\n",
    "\n",
    "    return q\n",
    "\n",
    "print(sense(p,Z))"
   ]
  },
  {
   "cell_type": "code",
   "execution_count": 24,
   "metadata": {},
   "outputs": [
    {
     "name": "stdout",
     "output_type": "stream",
     "text": [
      "[0.2727272727272727, 0.09090909090909093, 0.09090909090909093, 0.2727272727272727, 0.2727272727272727]\n"
     ]
    }
   ],
   "source": [
    "#Try using your code with a measurement of 'green' and \n",
    "#make sure the resulting probability distribution is correct.\n",
    "\n",
    "p=[0.2, 0.2, 0.2, 0.2, 0.2]\n",
    "world=['green', 'red', 'red', 'green', 'green']\n",
    "Z = 'green'\n",
    "pHit = 0.6\n",
    "pMiss = 0.2\n",
    "\n",
    "def sense(p, Z):\n",
    "    q=[]\n",
    "    for i in range(len(p)):\n",
    "        hit = (Z == world[i])\n",
    "        q.append(p[i] * (hit * pHit + (1-hit) * pMiss))\n",
    "    s = 0\n",
    "    for i in range(len(p)):\n",
    "        s += q[i]\n",
    "    for i in range(len(p)):\n",
    "        q[i]=q[i]/s \n",
    "    return q\n",
    "print(sense(p, Z))"
   ]
  },
  {
   "cell_type": "code",
   "execution_count": 43,
   "metadata": {},
   "outputs": [
    {
     "name": "stdout",
     "output_type": "stream",
     "text": [
      "[0.20000000000000004, 0.19999999999999996, 0.19999999999999996, 0.20000000000000004, 0.20000000000000004]\n"
     ]
    }
   ],
   "source": [
    "#Modify the code so that it updates the probability twice\n",
    "#and gives the posterior distribution after both \n",
    "#measurements are incorporated. Make sure that your code \n",
    "#allows for any sequence of measurement of any length.\n",
    "\n",
    "p=[0.2, 0.2, 0.2, 0.2, 0.2]\n",
    "world=['green', 'red', 'red', 'green', 'green']\n",
    "measurements = ['red', 'green']\n",
    "pHit = 0.6\n",
    "pMiss = 0.2\n",
    "\n",
    "def sense(p, Z):\n",
    "    q=[]\n",
    "    for i in range(len(p)):\n",
    "        hit = (Z == world[i])\n",
    "        q.append(p[i] * (hit * pHit + (1-hit) * pMiss))\n",
    "    s = 0\n",
    "    for i in range(len(p)):\n",
    "        s += q[i]\n",
    "    for i in range(len(q)):\n",
    "        q[i] = q[i] / s\n",
    "    return q\n",
    "\n",
    "for k in range(len(measurements)):\n",
    "     p = sense(p, measurements[k])\n",
    "\n",
    "print(p)"
   ]
  },
  {
   "cell_type": "markdown",
   "metadata": {
    "collapsed": true
   },
   "source": [
    "## Exact Motion"
   ]
  },
  {
   "cell_type": "code",
   "execution_count": 7,
   "metadata": {},
   "outputs": [
    {
     "name": "stdout",
     "output_type": "stream",
     "text": [
      "[0, 0, 1, 0, 0]\n"
     ]
    }
   ],
   "source": [
    "#Program a function that returns a new distribution \n",
    "#q, shifted to the right by U units. If U=0, q should \n",
    "#be the same as p.\n",
    "\n",
    "p=[0, 1, 0, 0, 0]\n",
    "world=['green', 'red', 'red', 'green', 'green']\n",
    "measurements = ['red', 'green']\n",
    "pHit = 0.6\n",
    "pMiss = 0.2\n",
    "\n",
    "def sense(p, Z):\n",
    "    q=[]\n",
    "    for i in range(len(p)):\n",
    "        hit = (Z == world[i])\n",
    "        q.append(p[i] * (hit * pHit + (1-hit) * pMiss))\n",
    "    s = sum(q)\n",
    "    for i in range(len(q)):\n",
    "        q[i] = q[i] / s\n",
    "    return q\n",
    "\n",
    "def move(p, U):\n",
    "    q = []\n",
    "    for i in range(len(p)):\n",
    "        q.append(p[i-U] % len(p))\n",
    "    return q\n",
    "\n",
    "print(move(p, 1))"
   ]
  },
  {
   "cell_type": "markdown",
   "metadata": {},
   "source": [
    "## Inaccurate Motion"
   ]
  },
  {
   "cell_type": "code",
   "execution_count": 10,
   "metadata": {},
   "outputs": [
    {
     "name": "stdout",
     "output_type": "stream",
     "text": [
      "[0.0, 0.1, 0.8, 0.1, 0.0]\n"
     ]
    }
   ],
   "source": [
    "#Modify the move function to accommodate the added \n",
    "#probabilities of overshooting or undershooting \n",
    "#the intended destination.\n",
    "\n",
    "p=[0, 1, 0, 0, 0]\n",
    "world=['green', 'red', 'red', 'green', 'green']\n",
    "measurements = ['red', 'green']\n",
    "pHit = 0.6\n",
    "pMiss = 0.2\n",
    "pExact = 0.8\n",
    "pOvershoot = 0.1\n",
    "pUndershoot = 0.1\n",
    "\n",
    "def sense(p, Z):\n",
    "    q=[]\n",
    "    for i in range(len(p)):\n",
    "        hit = (Z == world[i])\n",
    "        q.append(p[i] * (hit * pHit + (1-hit) * pMiss))\n",
    "    s = sum(q)\n",
    "    for i in range(len(q)):\n",
    "        q[i] = q[i] / s\n",
    "    return q\n",
    "\n",
    "def move(p, U):\n",
    "    q = []\n",
    "    for i in range(len(p)):\n",
    "        s = pExact * p[(i-U) % len(p)]\n",
    "        s = s + pOvershoot * p[(i-U-1) % len(p)]\n",
    "        s = s + pUndershoot * p[(i-U+1) % len(p)]\n",
    "        q.append(s)\n",
    "    return q\n",
    "\n",
    "print(move(p,1))"
   ]
  },
  {
   "cell_type": "markdown",
   "metadata": {},
   "source": [
    "## Move and Sense"
   ]
  },
  {
   "cell_type": "code",
   "execution_count": 16,
   "metadata": {},
   "outputs": [
    {
     "name": "stdout",
     "output_type": "stream",
     "text": [
      "[0.010000000000000002, 0.010000000000000002, 0.16000000000000003, 0.6600000000000001, 0.16000000000000003]\n"
     ]
    }
   ],
   "source": [
    "#Write code that makes the robot move twice and then prints \n",
    "#out the resulting distribution, starting with the initial \n",
    "#distribution p = [0, 1, 0, 0, 0]\n",
    "\n",
    "p=[0, 1, 0, 0, 0]\n",
    "world=['green', 'red', 'red', 'green', 'green']\n",
    "measurements = ['red', 'green']\n",
    "pHit = 0.6\n",
    "pMiss = 0.2\n",
    "pExact = 0.8\n",
    "pOvershoot = 0.1\n",
    "pUndershoot = 0.1\n",
    "\n",
    "def sense(p, Z):\n",
    "    q=[]\n",
    "    for i in range(len(p)):\n",
    "        hit = (Z == world[i])\n",
    "        q.append(p[i] * (hit * pHit + (1-hit) * pMiss))\n",
    "    s = sum(q)\n",
    "    for i in range(len(q)):\n",
    "        q[i] = q[i] / s\n",
    "    return q\n",
    "\n",
    "def move(p, U):\n",
    "    q = []\n",
    "    for i in range(len(p)):\n",
    "        s = pExact * p[(i-U) % len(p)]\n",
    "        s = s + pOvershoot * p[(i-U-1) % len(p)]\n",
    "        s = s + pUndershoot * p[(i-U+1) % len(p)]\n",
    "        q.append(s)\n",
    "    return q\n",
    "\n",
    "p = move(p, 1)\n",
    "p = move(p, 1) \n",
    "\n",
    "print (p)\n"
   ]
  },
  {
   "cell_type": "code",
   "execution_count": 17,
   "metadata": {},
   "outputs": [
    {
     "name": "stdout",
     "output_type": "stream",
     "text": [
      "[0.20000004294005816, 0.20000013895694374, 0.20000004294005816, 0.19999988758147377, 0.19999988758147375]\n"
     ]
    }
   ],
   "source": [
    "#Write code that makes the robot move twice and then prints \n",
    "#out the resulting distribution, starting with the initial \n",
    "#distribution p = [0, 1, 0, 0, 0]\n",
    "\n",
    "p=[0, 1, 0, 0, 0]\n",
    "world=['green', 'red', 'red', 'green', 'green']\n",
    "measurements = ['red', 'green']\n",
    "pHit = 0.6\n",
    "pMiss = 0.2\n",
    "pExact = 0.8\n",
    "pOvershoot = 0.1\n",
    "pUndershoot = 0.1\n",
    "\n",
    "def sense(p, Z):\n",
    "    q=[]\n",
    "    for i in range(len(p)):\n",
    "        hit = (Z == world[i])\n",
    "        q.append(p[i] * (hit * pHit + (1-hit) * pMiss))\n",
    "    s = sum(q)\n",
    "    for i in range(len(q)):\n",
    "        q[i] = q[i] / s\n",
    "    return q\n",
    "\n",
    "def move(p, U):\n",
    "    q = []\n",
    "    for i in range(len(p)):\n",
    "        s = pExact * p[(i-U) % len(p)]\n",
    "        s = s + pOvershoot * p[(i-U-1) % len(p)]\n",
    "        s = s + pUndershoot * p[(i-U+1) % len(p)]\n",
    "        q.append(s)\n",
    "    return q\n",
    "\n",
    "for _ in range(100):\n",
    "    p = move(p, 1)\n",
    "\n",
    "print (p)\n"
   ]
  },
  {
   "cell_type": "markdown",
   "metadata": {},
   "source": [
    "## Sense and Move"
   ]
  },
  {
   "cell_type": "code",
   "execution_count": 20,
   "metadata": {},
   "outputs": [
    {
     "name": "stdout",
     "output_type": "stream",
     "text": [
      "[0.21157894736842103, 0.1515789473684211, 0.08105263157894739, 0.16842105263157897, 0.3873684210526316]\n"
     ]
    }
   ],
   "source": [
    "#Given the list motions=[1,1] which means the robot \n",
    "#moves right and then right again, compute the posterior \n",
    "#distribution if the robot first senses red, then moves \n",
    "#right one, then senses green, then moves right again, \n",
    "#starting with a uniform prior distribution.\n",
    "\n",
    "p=[0.2, 0.2, 0.2, 0.2, 0.2]\n",
    "world=['green', 'red', 'red', 'green', 'green']\n",
    "measurements = ['red', 'green']\n",
    "motions = [1,1]\n",
    "pHit = 0.6\n",
    "pMiss = 0.2\n",
    "pExact = 0.8\n",
    "pOvershoot = 0.1\n",
    "pUndershoot = 0.1\n",
    "\n",
    "def sense(p, Z):\n",
    "    q=[]\n",
    "    for i in range(len(p)):\n",
    "        hit = (Z == world[i])\n",
    "        q.append(p[i] * (hit * pHit + (1-hit) * pMiss))\n",
    "    s = sum(q)\n",
    "    for i in range(len(q)):\n",
    "        q[i] = q[i] / s\n",
    "    return q\n",
    "\n",
    "def move(p, U):\n",
    "    q = []\n",
    "    for i in range(len(p)):\n",
    "        s = pExact * p[(i-U) % len(p)]\n",
    "        s = s + pOvershoot * p[(i-U-1) % len(p)]\n",
    "        s = s + pUndershoot * p[(i-U+1) % len(p)]\n",
    "        q.append(s)\n",
    "    return q\n",
    "\n",
    "for k in range(len(measurements)):\n",
    "    p = sense(p, measurements[k])\n",
    "    p = move(p, motions[k])\n",
    "\n",
    "print(p)\n"
   ]
  },
  {
   "cell_type": "code",
   "execution_count": 17,
   "metadata": {},
   "outputs": [
    {
     "name": "stdout",
     "output_type": "stream",
     "text": [
      "[0.07882352941176471, 0.07529411764705884, 0.22470588235294123, 0.4329411764705882, 0.18823529411764706]\n"
     ]
    }
   ],
   "source": [
    "#Modify the previous code so that the robot senses red twice.\n",
    "\n",
    "p=[0.2, 0.2, 0.2, 0.2, 0.2]\n",
    "world=['green', 'red', 'red', 'green', 'green']\n",
    "measurements = ['red', 'red']\n",
    "motions = [1,1]\n",
    "pHit = 0.6\n",
    "pMiss = 0.2\n",
    "pExact = 0.8\n",
    "pOvershoot = 0.1\n",
    "pUndershoot = 0.1\n",
    "\n",
    "def sense(p, Z):\n",
    "    q=[]\n",
    "    for i in range(len(p)):\n",
    "        hit = (Z == world[i])\n",
    "        q.append(p[i] * (hit * pHit + (1-hit) * pMiss))\n",
    "    s = sum(q)\n",
    "    for i in range(len(q)):\n",
    "        q[i] = q[i] / s\n",
    "    return q\n",
    "\n",
    "def move(p, U):\n",
    "    q = []\n",
    "    for i in range(len(p)):\n",
    "        s = pExact * p[(i-U) % len(p)]\n",
    "        s = s + pOvershoot * p[(i-U-1) % len(p)]\n",
    "        s = s + pUndershoot * p[(i-U+1) % len(p)]\n",
    "        q.append(s)\n",
    "    return q\n",
    "\n",
    "for k in range(len(measurements)):\n",
    "    p = sense(p, measurements[k])\n",
    "    p = move(p, motions[k])\n",
    "    \n",
    "print(p)"
   ]
  },
  {
   "cell_type": "markdown",
   "metadata": {
    "collapsed": true
   },
   "source": [
    "## Problem"
   ]
  },
  {
   "cell_type": "code",
   "execution_count": 32,
   "metadata": {},
   "outputs": [],
   "source": [
    "# The function localize takes the following arguments:\n",
    "#\n",
    "# colors:\n",
    "#        2D list, each entry either 'R' (for red cell) or 'G' (for green cell)\n",
    "#\n",
    "# measurements:\n",
    "#        list of measurements taken by the robot, each entry either 'R' or 'G'\n",
    "#\n",
    "# motions:\n",
    "#        list of actions taken by the robot, each entry of the form [dy,dx],\n",
    "#        where dx refers to the change in the x-direction (positive meaning\n",
    "#        movement to the right) and dy refers to the change in the y-direction\n",
    "#        (positive meaning movement downward)\n",
    "#        NOTE: the *first* coordinate is change in y; the *second* coordinate is\n",
    "#              change in x\n",
    "#\n",
    "# sensor_right:\n",
    "#        float between 0 and 1, giving the probability that any given\n",
    "#        measurement is correct; the probability that the measurement is\n",
    "#        incorrect is 1-sensor_right\n",
    "#\n",
    "# p_move:\n",
    "#        float between 0 and 1, giving the probability that any given movement\n",
    "#        command takes place; the probability that the movement command fails\n",
    "#        (and the robot remains still) is 1-p_move; the robot will NOT overshoot\n",
    "#        its destination in this exercise\n",
    "#\n",
    "# The function should RETURN (not just show or print) a 2D list (of the same\n",
    "# dimensions as colors) that gives the probabilities that the robot occupies\n",
    "# each cell in the world.\n",
    "#\n",
    "# Compute the probabilities by assuming the robot initially has a uniform\n",
    "# probability of being in any cell.\n",
    "#\n",
    "# Also assume that at each step, the robot:\n",
    "# 1) first makes a movement,\n",
    "# 2) then takes a measurement.\n",
    "#\n",
    "# Motion:\n",
    "#  [0,0] - stay\n",
    "#  [0,1] - right\n",
    "#  [0,-1] - left\n",
    "#  [1,0] - down\n",
    "#  [-1,0] - up\n",
    "\n",
    "def localize(colors,measurements,motions,sensor_right,p_move):\n",
    "    # initializes p to a uniform distribution over a grid of the same dimensions as colors\n",
    "    pinit = 1.0 / float(len(colors)) / float(len(colors[0]))\n",
    "    p = [[pinit for row in range(len(colors[0]))] for col in range(len(colors))]\n",
    "    \n",
    "    for k in range(len(measurements)):\n",
    "        p = move(p, p_move, motions[k])\n",
    "        p = sense(p, colors, sensor_right, measurements[k])\n",
    "    \n",
    "    return p\n",
    "\n",
    "def show(p):\n",
    "    rows = ['[' + ','.join(map(lambda x: '{0:.5f}'.format(x),r)) + ']' for r in p]\n",
    "    print('[' + ',\\n '.join(rows) + ']')\n",
    "\n",
    "def sense(p, colors, sensor_right, Z):\n",
    "    q=[]\n",
    "    for r in range(len(p)):\n",
    "        row = []\n",
    "        for c in range(len(p[0])):\n",
    "            hit = (Z == colors[r][c]) \n",
    "            row.append(p[r][c] * (hit * sensor_right + (1-hit) * (1-sensor_right)))\n",
    "        q.append(row)\n",
    "    s = 0\n",
    "    for r in range(len(p)):\n",
    "        for c in range(len(p[0])):\n",
    "            s += q[r][c]\n",
    "\n",
    "    for r in range(len(q)):\n",
    "        for c in range(len(p[0])):        \n",
    "            q[r][c] = q[r][c] / s\n",
    "    return q\n",
    "\n",
    "def move(p, p_move, U):\n",
    "    q = []\n",
    "    for r in range(len(p)):\n",
    "        row = []\n",
    "        for c in range(len(p[0])):\n",
    "            s = p[(r-U[0]) % len(p)][(c-U[1]) % len(p[0])] * p_move + (1-p_move) *p[r][c]\n",
    "            row.append(s)\n",
    "        q.append(row)\n",
    "    return q"
   ]
  },
  {
   "cell_type": "code",
   "execution_count": 33,
   "metadata": {
    "scrolled": true
   },
   "outputs": [
    {
     "name": "stdout",
     "output_type": "stream",
     "text": [
      "[[0.00000,0.00000,0.00000],\n",
      " [0.00000,1.00000,0.00000],\n",
      " [0.00000,0.00000,0.00000]]\n"
     ]
    }
   ],
   "source": [
    "colors = [['G', 'G', 'G'],\n",
    "          ['G', 'R', 'G'],\n",
    "          ['G', 'G', 'G']]\n",
    "measurements = ['R']\n",
    "motions = [[0,0]]\n",
    "sensor_right = 1.0\n",
    "p_move = 1.0\n",
    "p = localize(colors,measurements,motions,sensor_right,p_move)\n",
    "show(p)"
   ]
  },
  {
   "cell_type": "code",
   "execution_count": 36,
   "metadata": {
    "scrolled": true
   },
   "outputs": [
    {
     "name": "stdout",
     "output_type": "stream",
     "text": [
      "[[0.00000,0.00000,0.00000],\n",
      " [0.00000,0.50000,0.50000],\n",
      " [0.00000,0.00000,0.00000]]\n"
     ]
    }
   ],
   "source": [
    "colors = [['G', 'G', 'G'],\n",
    "          ['G', 'R', 'R'],\n",
    "          ['G', 'G', 'G']]\n",
    "measurements = ['R']\n",
    "motions = [[0,0]]\n",
    "sensor_right = 1.0\n",
    "p_move = 1.0\n",
    "p = localize(colors,measurements,motions,sensor_right,p_move)\n",
    "show(p)"
   ]
  },
  {
   "cell_type": "code",
   "execution_count": 37,
   "metadata": {
    "scrolled": true
   },
   "outputs": [
    {
     "name": "stdout",
     "output_type": "stream",
     "text": [
      "[[0.06667,0.06667,0.06667],\n",
      " [0.06667,0.26667,0.26667],\n",
      " [0.06667,0.06667,0.06667]]\n"
     ]
    }
   ],
   "source": [
    "colors = [['G', 'G', 'G'],\n",
    "          ['G', 'R', 'R'],\n",
    "          ['G', 'G', 'G']]\n",
    "measurements = ['R']\n",
    "motions = [[0,0]]\n",
    "sensor_right = 0.8\n",
    "p_move = 1.0\n",
    "p = localize(colors,measurements,motions,sensor_right,p_move)\n",
    "show(p)"
   ]
  },
  {
   "cell_type": "code",
   "execution_count": 38,
   "metadata": {},
   "outputs": [
    {
     "name": "stdout",
     "output_type": "stream",
     "text": [
      "[[0.03333,0.03333,0.03333],\n",
      " [0.13333,0.13333,0.53333],\n",
      " [0.03333,0.03333,0.03333]]\n"
     ]
    }
   ],
   "source": [
    "colors = [['G', 'G', 'G'],\n",
    "          ['G', 'R', 'R'],\n",
    "          ['G', 'G', 'G']]\n",
    "measurements = ['R', 'R']\n",
    "motions = [[0,0], [0,1]]\n",
    "sensor_right = 0.8\n",
    "p_move = 1.0\n",
    "p = localize(colors,measurements,motions,sensor_right,p_move)\n",
    "show(p)"
   ]
  },
  {
   "cell_type": "code",
   "execution_count": 39,
   "metadata": {},
   "outputs": [
    {
     "name": "stdout",
     "output_type": "stream",
     "text": [
      "[[0.00000,0.00000,0.00000],\n",
      " [0.00000,0.00000,1.00000],\n",
      " [0.00000,0.00000,0.00000]]\n"
     ]
    }
   ],
   "source": [
    "colors = [['G', 'G', 'G'],\n",
    "          ['G', 'R', 'R'],\n",
    "          ['G', 'G', 'G']]\n",
    "measurements = ['R', 'R']\n",
    "motions = [[0,0], [0,1]]\n",
    "sensor_right = 1.0\n",
    "p_move = 1.0\n",
    "p = localize(colors,measurements,motions,sensor_right,p_move)\n",
    "show(p)"
   ]
  },
  {
   "cell_type": "code",
   "execution_count": 40,
   "metadata": {},
   "outputs": [
    {
     "name": "stdout",
     "output_type": "stream",
     "text": [
      "[[0.02899,0.02899,0.02899],\n",
      " [0.07246,0.28986,0.46377],\n",
      " [0.02899,0.02899,0.02899]]\n"
     ]
    }
   ],
   "source": [
    "colors = [['G', 'G', 'G'],\n",
    "          ['G', 'R', 'R'],\n",
    "          ['G', 'G', 'G']]\n",
    "measurements = ['R', 'R']\n",
    "motions = [[0,0], [0,1]]\n",
    "sensor_right = 0.8\n",
    "p_move = 0.5\n",
    "p = localize(colors,measurements,motions,sensor_right,p_move)\n",
    "show(p)"
   ]
  },
  {
   "cell_type": "code",
   "execution_count": 41,
   "metadata": {},
   "outputs": [
    {
     "name": "stdout",
     "output_type": "stream",
     "text": [
      "[[0.00000,0.00000,0.00000],\n",
      " [0.00000,0.33333,0.66667],\n",
      " [0.00000,0.00000,0.00000]]\n"
     ]
    }
   ],
   "source": [
    "colors = [['G', 'G', 'G'],\n",
    "          ['G', 'R', 'R'],\n",
    "          ['G', 'G', 'G']]\n",
    "measurements = ['R', 'R']\n",
    "motions = [[0,0], [0,1]]\n",
    "sensor_right = 1.0\n",
    "p_move = 0.5\n",
    "p = localize(colors,measurements,motions,sensor_right,p_move)\n",
    "show(p)"
   ]
  },
  {
   "cell_type": "code",
   "execution_count": 34,
   "metadata": {},
   "outputs": [
    {
     "name": "stdout",
     "output_type": "stream",
     "text": [
      "[[0.01106,0.02464,0.06800,0.04472,0.02465],\n",
      " [0.00715,0.01017,0.08697,0.07988,0.00935],\n",
      " [0.00740,0.00894,0.11273,0.35351,0.04066],\n",
      " [0.00911,0.00715,0.01435,0.04313,0.03643]]\n"
     ]
    }
   ],
   "source": [
    "#############################################################\n",
    "# For the following test case, your output should be \n",
    "# [[0.01105, 0.02464, 0.06799, 0.04472, 0.02465],\n",
    "#  [0.00715, 0.01017, 0.08696, 0.07988, 0.00935],\n",
    "#  [0.00739, 0.00894, 0.11272, 0.35350, 0.04065],\n",
    "#  [0.00910, 0.00715, 0.01434, 0.04313, 0.03642]]\n",
    "# (within a tolerance of +/- 0.001 for each entry)\n",
    "\n",
    "colors = [['R','G','G','R','R'],\n",
    "          ['R','R','G','R','R'],\n",
    "          ['R','R','G','G','R'],\n",
    "          ['R','R','R','R','R']]\n",
    "measurements = ['G','G','G','G','G']\n",
    "motions = [[0,0],[0,1],[1,0],[1,0],[0,1]]\n",
    "p = localize(colors,measurements,motions,sensor_right = 0.7, p_move = 0.8)\n",
    "show(p) # displays your answe"
   ]
  }
 ],
 "metadata": {
  "kernelspec": {
   "display_name": "Python 3",
   "language": "python",
   "name": "python3"
  },
  "language_info": {
   "codemirror_mode": {
    "name": "ipython",
    "version": 3
   },
   "file_extension": ".py",
   "mimetype": "text/x-python",
   "name": "python",
   "nbconvert_exporter": "python",
   "pygments_lexer": "ipython3",
   "version": "3.5.4"
  },
  "toc": {
   "colors": {
    "hover_highlight": "#DAA520",
    "navigate_num": "#000000",
    "navigate_text": "#333333",
    "running_highlight": "#FF0000",
    "selected_highlight": "#FFD700",
    "sidebar_border": "#EEEEEE",
    "wrapper_background": "#FFFFFF"
   },
   "moveMenuLeft": true,
   "nav_menu": {
    "height": "39px",
    "width": "254px"
   },
   "navigate_menu": true,
   "number_sections": false,
   "sideBar": true,
   "threshold": 4,
   "toc_cell": false,
   "toc_section_display": "block",
   "toc_window_display": false,
   "widenNotebook": false
  }
 },
 "nbformat": 4,
 "nbformat_minor": 2
}
